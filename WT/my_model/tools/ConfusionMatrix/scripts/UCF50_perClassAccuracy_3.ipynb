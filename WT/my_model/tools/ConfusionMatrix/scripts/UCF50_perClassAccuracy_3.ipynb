{
 "cells": [
  {
   "cell_type": "markdown",
   "metadata": {},
   "source": [
    "Check Performance"
   ]
  },
  {
   "cell_type": "code",
   "execution_count": 7,
   "metadata": {},
   "outputs": [],
   "source": [
    "from datetime import datetime\n",
    "from sklearn.metrics import confusion_matrix\n",
    "import itertools\n",
    "import io\n",
    "import pandas as pd\n",
    "import numpy as np\n",
    "import matplotlib.pyplot as plt"
   ]
  },
  {
   "cell_type": "code",
   "execution_count": 8,
   "metadata": {},
   "outputs": [],
   "source": [
    "fileName1=\"../UCF50/UCF50_Full16FlowRGB_Batch30-CM.txt\"\n",
    "fileName2=\"../UCF50/UCF50_Full16FlowRGB_MyKey25_Batch30-CM.txt\"\n",
    "fileName3=\"../UCF50/UCF50_Full16FlowRGB_FlowNet_MyKey25_Batch30-CM.txt\"\n",
    "d={'f1':'All-Frames','f2':'Brox_MyKey25', 'f3':'FlowNet_MyKey25'}\n",
    "f1=\"All-Frames\"\n",
    "f2=\"Brox_MyKey25\"\n",
    "f2=\"FlowNet_MyKey25\""
   ]
  },
  {
   "cell_type": "code",
   "execution_count": 9,
   "metadata": {},
   "outputs": [
    {
     "name": "stdout",
     "output_type": "stream",
     "text": [
      "../UCF50/UCF50_Full16FlowRGB_Batch30-CM.txt\n",
      "../UCF50/UCF50_Full16FlowRGB_MyKey25_Batch30-CM.txt\n",
      "../UCF50/UCF50_Full16FlowRGB_FlowNet_MyKey25_Batch30-CM.txt\n"
     ]
    }
   ],
   "source": [
    "print(fileName1)\n",
    "print(fileName2)\n",
    "print(fileName3)"
   ]
  },
  {
   "cell_type": "code",
   "execution_count": 10,
   "metadata": {},
   "outputs": [],
   "source": [
    "def get_Accuracy(cm, class_names):\n",
    "\n",
    "    class_acc=[]\n",
    "    cm = np.around(cm.astype('float') / cm.sum(axis=1)[:, np.newaxis], decimals=2)\n",
    "    for i, j in itertools.product(range(cm.shape[0]), range(cm.shape[1])):\n",
    "        if i==j:\n",
    "            class_acc.append(cm[i, j])\n",
    "    #print(cm)\n",
    "    return class_acc\n",
    "    \n",
    "\n",
    "def get_confusion_matrix(fileName):\n",
    "    with open(fileName) as file:\n",
    "        cm = [[float(digit) for digit in line.split()] for line in file]\n",
    "    \n",
    "    cm = np.array(cm, dtype=np.float32)\n",
    "    class_acc=get_Accuracy(cm, class_names=target_names)\n",
    "    return class_acc"
   ]
  },
  {
   "cell_type": "code",
   "execution_count": 11,
   "metadata": {},
   "outputs": [],
   "source": [
    "def acc_to_csv(class_acc1, class_acc2, class_acc3, init_range, end_rang, target_names):\n",
    "    df=pd.DataFrame({'Classes':target_names[init_range:end_rang], d['f1']:class_acc1[init_range:end_rang],d['f2']:class_acc2[init_range:end_rang],d['f3']:class_acc3[init_range:end_rang]})\n",
    "    #df.to_excel(\"output.xlsx\")\n",
    "    print(df)\n",
    "    df.to_csv('../csv_files/UCF50_perClassAccuracy_25.csv',columns = ['Classes', d['f1'], d['f2'], d['f3']],index=False)\n"
   ]
  },
  {
   "cell_type": "code",
   "execution_count": 12,
   "metadata": {
    "scrolled": true
   },
   "outputs": [
    {
     "name": "stdout",
     "output_type": "stream",
     "text": [
      "    All-Frames  Brox_MyKey25             Classes  FlowNet_MyKey25\n",
      "0         0.91          0.89       BaseballPitch             0.87\n",
      "1         0.88          0.89          Basketball             0.84\n",
      "2         0.99          0.98          BenchPress             0.96\n",
      "3         0.92          0.93              Biking             0.90\n",
      "4         1.00          1.00           Billiards             0.99\n",
      "5         0.96          0.95        BreastStroke             0.93\n",
      "6         0.96          0.95        CleanAndJerk             0.94\n",
      "7         0.97          0.98              Diving             0.94\n",
      "8         0.96          0.96            Drumming             0.94\n",
      "9         0.95          0.94             Fencing             0.96\n",
      "10        0.93          0.89           GolfSwing             0.90\n",
      "11        0.76          0.72            HighJump             0.74\n",
      "12        0.90          0.89           HorseRace             0.79\n",
      "13        0.92          0.90         HorseRiding             0.87\n",
      "14        0.91          0.91            HulaHoop             0.89\n",
      "15        0.87          0.84        JavelinThrow             0.85\n",
      "16        0.96          0.95       JugglingBalls             0.92\n",
      "17        1.00          1.00         JumpingJack             0.97\n",
      "18        0.98          0.98            JumpRope             0.97\n",
      "19        0.90          0.87            Kayaking             0.87\n",
      "20        0.95          0.94              Lunges             0.91\n",
      "21        0.94          0.92      MilitaryParade             0.82\n",
      "22        0.89          0.89              Mixing             0.95\n",
      "23        0.92          0.91           Nunchucks             0.88\n",
      "24        0.83          0.83        PizzaTossing             0.77\n",
      "25        0.99          0.99       PlayingGuitar             0.98\n",
      "26        0.99          0.99        PlayingPiano             0.94\n",
      "27        1.00          0.98        PlayingTabla             0.99\n",
      "28        0.97          0.98       PlayingViolin             0.98\n",
      "29        0.89          0.83           PoleVault             0.80\n",
      "30        0.98          0.99         PommelHorse             0.98\n",
      "31        0.95          0.92             PullUps             0.95\n",
      "32        0.97          0.96               Punch             0.96\n",
      "33        0.99          0.97             PushUps             0.96\n",
      "34        0.91          0.91  RockClimbingIndoor             0.90\n",
      "35        0.92          0.92        RopeClimbing             0.85\n",
      "36        0.95          0.95              Rowing             0.89\n",
      "37        0.96          0.96           SalsaSpin             0.92\n",
      "38        0.87          0.87       SkateBoarding             0.83\n",
      "39        0.77          0.74              Skiing             0.78\n",
      "40        0.90          0.88              Skijet             0.90\n",
      "41        0.90          0.90      SoccerJuggling             0.90\n",
      "42        0.95          0.87               Swing             0.91\n",
      "43        0.95          0.91              TaiChi             0.84\n",
      "44        0.97          0.97         TennisSwing             0.95\n",
      "45        0.88          0.85         ThrowDiscus             0.87\n",
      "46        0.93          0.90   TrampolineJumping             0.95\n",
      "47        0.88          0.87   VolleyballSpiking             0.76\n",
      "48        0.84          0.76      WalkingWithDog             0.70\n",
      "49        0.90          0.89                YoYo             0.86\n"
     ]
    }
   ],
   "source": [
    "from sklearn.metrics import confusion_matrix\n",
    "\n",
    "with open('ucf50_class_names.txt') as f:\n",
    "    target_names = [line.rstrip() for line in f]\n",
    "    \n",
    "\n",
    "class_acc1=get_confusion_matrix(fileName1)\n",
    "class_acc2=get_confusion_matrix(fileName2)\n",
    "class_acc3=get_confusion_matrix(fileName3)    \n",
    "acc_to_csv(class_acc1,class_acc2,class_acc3,0,50, target_names)\n",
    "\n"
   ]
  },
  {
   "cell_type": "code",
   "execution_count": null,
   "metadata": {},
   "outputs": [],
   "source": []
  }
 ],
 "metadata": {
  "kernelspec": {
   "display_name": "Python 3",
   "language": "python",
   "name": "python3"
  },
  "language_info": {
   "codemirror_mode": {
    "name": "ipython",
    "version": 3
   },
   "file_extension": ".py",
   "mimetype": "text/x-python",
   "name": "python",
   "nbconvert_exporter": "python",
   "pygments_lexer": "ipython3",
   "version": "3.5.2"
  }
 },
 "nbformat": 4,
 "nbformat_minor": 5
}
