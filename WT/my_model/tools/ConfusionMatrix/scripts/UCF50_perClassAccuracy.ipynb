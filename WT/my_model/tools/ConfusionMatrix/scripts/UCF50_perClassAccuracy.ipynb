{
 "cells": [
  {
   "cell_type": "markdown",
   "metadata": {},
   "source": [
    "Check Performance"
   ]
  },
  {
   "cell_type": "code",
   "execution_count": 7,
   "metadata": {},
   "outputs": [],
   "source": [
    "from datetime import datetime\n",
    "from sklearn.metrics import confusion_matrix\n",
    "import itertools\n",
    "import io\n",
    "import pandas as pd\n",
    "import numpy as np\n",
    "import matplotlib.pyplot as plt"
   ]
  },
  {
   "cell_type": "code",
   "execution_count": 8,
   "metadata": {},
   "outputs": [],
   "source": [
    "fileName1=\"../UCF50/UCF50_Full16FlowRGB_Batch30-CM.txt\"\n",
    "fileName2=\"../UCF50/UCF50_Full16FlowRGB_FlowNet_MyKey25R_Batch30-CM.txt\"\n",
    "\n",
    "d={'f1':'16f Consecutive Flows','f2':'16f FlowNet_MyKey25R'}\n",
    "f1=\"16f Consecutive Flows\"\n",
    "f2=\"16f FlowNet_MyKey25R\""
   ]
  },
  {
   "cell_type": "code",
   "execution_count": 9,
   "metadata": {},
   "outputs": [
    {
     "name": "stdout",
     "output_type": "stream",
     "text": [
      "../UCF50/UCF50_Full16FlowRGB_Batch30-CM.txt\n",
      "../UCF50/UCF50_Full16FlowRGB_FlowNet_MyKey25R_Batch30-CM.txt\n"
     ]
    }
   ],
   "source": [
    "print(fileName1)\n",
    "print(fileName2)\n"
   ]
  },
  {
   "cell_type": "code",
   "execution_count": 10,
   "metadata": {},
   "outputs": [],
   "source": [
    "def get_Accuracy(cm, class_names):\n",
    "\n",
    "    class_acc=[]\n",
    "    cm = np.around(cm.astype('float') / cm.sum(axis=1)[:, np.newaxis], decimals=2)\n",
    "    for i, j in itertools.product(range(cm.shape[0]), range(cm.shape[1])):\n",
    "        if i==j:\n",
    "            class_acc.append(cm[i, j])\n",
    "    #print(cm)\n",
    "    return class_acc\n",
    "    \n",
    "\n",
    "def get_confusion_matrix(fileName):\n",
    "    with open(fileName) as file:\n",
    "        cm = [[float(digit) for digit in line.split()] for line in file]\n",
    "    \n",
    "    cm = np.array(cm, dtype=np.float32)\n",
    "    class_acc=get_Accuracy(cm, class_names=target_names)\n",
    "    return class_acc"
   ]
  },
  {
   "cell_type": "code",
   "execution_count": 11,
   "metadata": {},
   "outputs": [],
   "source": [
    "def acc_to_csv(class_acc1, class_acc2, init_range, end_rang, target_names):\n",
    "    df=pd.DataFrame({'Classes':target_names[init_range:end_rang], d['f1']:class_acc1[init_range:end_rang],d['f2']:class_acc2[init_range:end_rang]})\n",
    "    #df.to_excel(\"output.xlsx\")\n",
    "    print(df)\n",
    "    df.to_csv('../csv_files/ucf50_Consec_FlowNetKeyflow25R_perClassAccuracy.csv',columns = ['Classes', d['f1'], d['f2']],index=False)\n"
   ]
  },
  {
   "cell_type": "code",
   "execution_count": 12,
   "metadata": {
    "scrolled": true
   },
   "outputs": [
    {
     "name": "stdout",
     "output_type": "stream",
     "text": [
      "    16f Consecutive Flows  16f FlowNet_MyKey25R             Classes\n",
      "0                    0.95                  0.47       BaseballPitch\n",
      "1                    0.87                  0.48          Basketball\n",
      "2                    1.00                  0.84          BenchPress\n",
      "3                    0.96                  0.82              Biking\n",
      "4                    1.00                  0.98           Billiards\n",
      "5                    0.87                  0.94        BreastStroke\n",
      "6                    0.97                  0.86        CleanAndJerk\n",
      "7                    0.98                  0.83              Diving\n",
      "8                    0.98                  0.87            Drumming\n",
      "9                    1.00                  0.84             Fencing\n",
      "10                   0.91                  0.70           GolfSwing\n",
      "11                   0.81                  0.55            HighJump\n",
      "12                   0.95                  0.74           HorseRace\n",
      "13                   0.94                  0.87         HorseRiding\n",
      "14                   0.93                  0.56            HulaHoop\n",
      "15                   0.89                  0.74        JavelinThrow\n",
      "16                   0.95                  0.72       JugglingBalls\n",
      "17                   1.00                  0.80         JumpingJack\n",
      "18                   1.00                  0.94            JumpRope\n",
      "19                   0.94                  0.82            Kayaking\n",
      "20                   0.97                  0.87              Lunges\n",
      "21                   0.98                  0.74      MilitaryParade\n",
      "22                   0.97                  0.93              Mixing\n",
      "23                   0.99                  0.80           Nunchucks\n",
      "24                   0.86                  0.33        PizzaTossing\n",
      "25                   1.00                  0.96       PlayingGuitar\n",
      "26                   1.00                  0.72        PlayingPiano\n",
      "27                   1.00                  0.90        PlayingTabla\n",
      "28                   1.00                  0.89       PlayingViolin\n",
      "29                   0.90                  0.69           PoleVault\n",
      "30                   1.00                  0.67         PommelHorse\n",
      "31                   1.00                  0.84             PullUps\n",
      "32                   0.96                  0.98               Punch\n",
      "33                   0.95                  0.77             PushUps\n",
      "34                   0.99                  0.78  RockClimbingIndoor\n",
      "35                   0.87                  0.75        RopeClimbing\n",
      "36                   0.94                  0.77              Rowing\n",
      "37                   1.00                  0.93           SalsaSpin\n",
      "38                   0.83                  0.77       SkateBoarding\n",
      "39                   0.96                  0.67              Skiing\n",
      "40                   0.88                  0.82              Skijet\n",
      "41                   0.91                  0.70      SoccerJuggling\n",
      "42                   0.97                  0.82               Swing\n",
      "43                   0.98                  0.46              TaiChi\n",
      "44                   0.99                  0.76         TennisSwing\n",
      "45                   0.91                  0.43         ThrowDiscus\n",
      "46                   0.99                  0.84   TrampolineJumping\n",
      "47                   0.79                  0.50   VolleyballSpiking\n",
      "48                   0.81                  0.66      WalkingWithDog\n",
      "49                   0.97                  0.61                YoYo\n"
     ]
    }
   ],
   "source": [
    "from sklearn.metrics import confusion_matrix\n",
    "\n",
    "with open('ucf50_class_names.txt') as f:\n",
    "    target_names = [line.rstrip() for line in f]\n",
    "    \n",
    "\n",
    "class_acc1=get_confusion_matrix(fileName1)\n",
    "class_acc2=get_confusion_matrix(fileName2)\n",
    "   \n",
    "acc_to_csv(class_acc1,class_acc2,0,50, target_names)\n",
    "\n"
   ]
  },
  {
   "cell_type": "code",
   "execution_count": null,
   "metadata": {},
   "outputs": [],
   "source": []
  }
 ],
 "metadata": {
  "kernelspec": {
   "display_name": "Python 3",
   "language": "python",
   "name": "python3"
  },
  "language_info": {
   "codemirror_mode": {
    "name": "ipython",
    "version": 3
   },
   "file_extension": ".py",
   "mimetype": "text/x-python",
   "name": "python",
   "nbconvert_exporter": "python",
   "pygments_lexer": "ipython3",
   "version": "3.5.2"
  }
 },
 "nbformat": 4,
 "nbformat_minor": 5
}
