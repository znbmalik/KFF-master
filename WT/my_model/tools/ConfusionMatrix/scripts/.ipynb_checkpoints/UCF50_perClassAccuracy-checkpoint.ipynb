{
 "cells": [
  {
   "cell_type": "markdown",
   "metadata": {},
   "source": [
    "Check Performance"
   ]
  },
  {
   "cell_type": "code",
   "execution_count": 14,
   "metadata": {},
   "outputs": [],
   "source": [
    "from datetime import datetime\n",
    "from sklearn.metrics import confusion_matrix\n",
    "import itertools\n",
    "import io\n",
    "import pandas as pd\n",
    "import numpy as np\n",
    "import matplotlib.pyplot as plt"
   ]
  },
  {
   "cell_type": "code",
   "execution_count": 20,
   "metadata": {},
   "outputs": [],
   "source": [
    "fileName1=\"../UCF50/UCF50_Full16FlowRGB_MyKey25_Batch30-CM.txt\"\n",
    "fileName2=\"../UCF50/UCF50_Full60FlowRGB_MyKey25_Batch15-CM.txt\"\n",
    "\n",
    "d={'f1':'16f KeyFrame','f2':'60f KeyFrame'}\n",
    "f1=\"16f KeyFrame\"\n",
    "f2=\"60f KeyFrame\""
   ]
  },
  {
   "cell_type": "code",
   "execution_count": 21,
   "metadata": {},
   "outputs": [
    {
     "name": "stdout",
     "output_type": "stream",
     "text": [
      "../UCF50/UCF50_Full16FlowRGB_MyKey25_Batch30-CM.txt\n",
      "../UCF50/UCF50_Full60FlowRGB_MyKey25_Batch15-CM.txt\n"
     ]
    }
   ],
   "source": [
    "print(fileName1)\n",
    "print(fileName2)\n"
   ]
  },
  {
   "cell_type": "code",
   "execution_count": 22,
   "metadata": {},
   "outputs": [],
   "source": [
    "def get_Accuracy(cm, class_names):\n",
    "\n",
    "    class_acc=[]\n",
    "    cm = np.around(cm.astype('float') / cm.sum(axis=1)[:, np.newaxis], decimals=2)\n",
    "    for i, j in itertools.product(range(cm.shape[0]), range(cm.shape[1])):\n",
    "        if i==j:\n",
    "            class_acc.append(cm[i, j])\n",
    "    #print(cm)\n",
    "    return class_acc\n",
    "    \n",
    "\n",
    "def get_confusion_matrix(fileName):\n",
    "    with open(fileName) as file:\n",
    "        cm = [[float(digit) for digit in line.split()] for line in file]\n",
    "    \n",
    "    cm = np.array(cm, dtype=np.float32)\n",
    "    class_acc=get_Accuracy(cm, class_names=target_names)\n",
    "    return class_acc"
   ]
  },
  {
   "cell_type": "code",
   "execution_count": 23,
   "metadata": {},
   "outputs": [],
   "source": [
    "def acc_to_csv(class_acc1, class_acc2, init_range, end_rang, target_names):\n",
    "    df=pd.DataFrame({'Classes':target_names[init_range:end_rang], d['f1']:class_acc1[init_range:end_rang],d['f2']:class_acc2[init_range:end_rang]})\n",
    "    #df.to_excel(\"output.xlsx\")\n",
    "    print(df)\n",
    "    df.to_csv('../csv_files/ucf50_perClassAccuracy.csv',columns = ['Classes', d['f1'], d['f2']],index=False)\n"
   ]
  },
  {
   "cell_type": "code",
   "execution_count": 24,
   "metadata": {
    "scrolled": true
   },
   "outputs": [
    {
     "name": "stdout",
     "output_type": "stream",
     "text": [
      "    16f KeyFrame  60f KeyFrame             Classes\n",
      "0           0.89          0.86       BaseballPitch\n",
      "1           0.89          0.91          Basketball\n",
      "2           0.98          0.98          BenchPress\n",
      "3           0.93          0.92              Biking\n",
      "4           1.00          1.00           Billiards\n",
      "5           0.95          0.95        BreastStroke\n",
      "6           0.95          0.92        CleanAndJerk\n",
      "7           0.98          0.97              Diving\n",
      "8           0.96          0.95            Drumming\n",
      "9           0.94          0.91             Fencing\n",
      "10          0.89          0.91           GolfSwing\n",
      "11          0.72          0.74            HighJump\n",
      "12          0.89          0.86           HorseRace\n",
      "13          0.90          0.94         HorseRiding\n",
      "14          0.91          0.91            HulaHoop\n",
      "15          0.84          0.87        JavelinThrow\n",
      "16          0.95          0.95       JugglingBalls\n",
      "17          1.00          0.97         JumpingJack\n",
      "18          0.98          0.97            JumpRope\n",
      "19          0.87          0.88            Kayaking\n",
      "20          0.94          0.94              Lunges\n",
      "21          0.92          0.90      MilitaryParade\n",
      "22          0.89          0.83              Mixing\n",
      "23          0.91          0.93           Nunchucks\n",
      "24          0.83          0.71        PizzaTossing\n",
      "25          0.99          0.98       PlayingGuitar\n",
      "26          0.99          0.98        PlayingPiano\n",
      "27          0.98          0.98        PlayingTabla\n",
      "28          0.98          0.90       PlayingViolin\n",
      "29          0.83          0.77           PoleVault\n",
      "30          0.99          1.00         PommelHorse\n",
      "31          0.92          0.96             PullUps\n",
      "32          0.96          0.98               Punch\n",
      "33          0.97          0.88             PushUps\n",
      "34          0.91          0.89  RockClimbingIndoor\n",
      "35          0.92          0.87        RopeClimbing\n",
      "36          0.95          0.94              Rowing\n",
      "37          0.96          0.90           SalsaSpin\n",
      "38          0.87          0.86       SkateBoarding\n",
      "39          0.74          0.77              Skiing\n",
      "40          0.88          0.77              Skijet\n",
      "41          0.90          0.94      SoccerJuggling\n",
      "42          0.87          0.87               Swing\n",
      "43          0.91          0.82              TaiChi\n",
      "44          0.97          0.90         TennisSwing\n",
      "45          0.85          0.85         ThrowDiscus\n",
      "46          0.90          0.89   TrampolineJumping\n",
      "47          0.87          0.74   VolleyballSpiking\n",
      "48          0.76          0.74      WalkingWithDog\n",
      "49          0.89          0.84                YoYo\n"
     ]
    }
   ],
   "source": [
    "from sklearn.metrics import confusion_matrix\n",
    "\n",
    "with open('ucf50_class_names.txt') as f:\n",
    "    target_names = [line.rstrip() for line in f]\n",
    "    \n",
    "\n",
    "class_acc1=get_confusion_matrix(fileName1)\n",
    "class_acc2=get_confusion_matrix(fileName2)\n",
    "   \n",
    "acc_to_csv(class_acc1,class_acc2,0,50, target_names)\n",
    "\n"
   ]
  },
  {
   "cell_type": "code",
   "execution_count": null,
   "metadata": {},
   "outputs": [],
   "source": []
  }
 ],
 "metadata": {
  "kernelspec": {
   "display_name": "Python 3",
   "language": "python",
   "name": "python3"
  },
  "language_info": {
   "codemirror_mode": {
    "name": "ipython",
    "version": 3
   },
   "file_extension": ".py",
   "mimetype": "text/x-python",
   "name": "python",
   "nbconvert_exporter": "python",
   "pygments_lexer": "ipython3",
   "version": "3.5.2"
  }
 },
 "nbformat": 4,
 "nbformat_minor": 5
}
