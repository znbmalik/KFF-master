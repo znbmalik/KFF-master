{
 "cells": [
  {
   "cell_type": "markdown",
   "metadata": {},
   "source": [
    "Check Performance"
   ]
  },
  {
   "cell_type": "code",
   "execution_count": 1,
   "metadata": {},
   "outputs": [],
   "source": [
    "from datetime import datetime\n",
    "from sklearn.metrics import confusion_matrix\n",
    "import itertools\n",
    "import io\n",
    "import pandas as pd\n",
    "import numpy as np\n",
    "import matplotlib.pyplot as plt"
   ]
  },
  {
   "cell_type": "code",
   "execution_count": 3,
   "metadata": {},
   "outputs": [],
   "source": [
    "fileName1=\"../JHMDB/JHMDB_Full16FlowRGB_Batch30-CM.txt\"\n",
    "fileName2=\"../JHMDB/JHMDB_Full16FlowRGB_MyKey25_Batch30-CM.txt\"\n",
    "\n",
    "d={'f1':'16f Consecutive Flows','f2':'16f MyKey25'}\n",
    "f1=\"16f Consecutive Flows\"\n",
    "f2=\"16f MyKey25\""
   ]
  },
  {
   "cell_type": "code",
   "execution_count": 4,
   "metadata": {},
   "outputs": [
    {
     "name": "stdout",
     "output_type": "stream",
     "text": [
      "../JHMDB/JHMDB_Full16FlowRGB_Batch30-CM.txt\n",
      "../JHMDB/JHMDB_Full16FlowRGB_MyKey25_Batch30-CM.txt\n"
     ]
    }
   ],
   "source": [
    "print(fileName1)\n",
    "print(fileName2)\n"
   ]
  },
  {
   "cell_type": "code",
   "execution_count": 5,
   "metadata": {},
   "outputs": [],
   "source": [
    "def get_Accuracy(cm, class_names):\n",
    "\n",
    "    class_acc=[]\n",
    "    cm = np.around(cm.astype('float') / cm.sum(axis=1)[:, np.newaxis], decimals=2)\n",
    "    for i, j in itertools.product(range(cm.shape[0]), range(cm.shape[1])):\n",
    "        if i==j:\n",
    "            class_acc.append(cm[i, j])\n",
    "    #print(cm)\n",
    "    return class_acc\n",
    "    \n",
    "\n",
    "def get_confusion_matrix(fileName):\n",
    "    with open(fileName) as file:\n",
    "        cm = [[float(digit) for digit in line.split()] for line in file]\n",
    "    \n",
    "    cm = np.array(cm, dtype=np.float32)\n",
    "    class_acc=get_Accuracy(cm, class_names=target_names)\n",
    "    return class_acc"
   ]
  },
  {
   "cell_type": "code",
   "execution_count": 7,
   "metadata": {},
   "outputs": [],
   "source": [
    "def acc_to_csv(class_acc1, class_acc2, init_range, end_rang, target_names):\n",
    "    df=pd.DataFrame({'Classes':target_names[init_range:end_rang], d['f1']:class_acc1[init_range:end_rang],d['f2']:class_acc2[init_range:end_rang]})\n",
    "    #df.to_excel(\"output.xlsx\")\n",
    "    print(df)\n",
    "    df.to_csv('../csv_files/JHMDB_Consec_Keyflow25R_perClassAccuracy.csv',columns = ['Classes', d['f1'], d['f2']],index=False)\n"
   ]
  },
  {
   "cell_type": "code",
   "execution_count": 8,
   "metadata": {
    "scrolled": true
   },
   "outputs": [
    {
     "name": "stdout",
     "output_type": "stream",
     "text": [
      "    16f Consecutive Flows  16f MyKey25        Classes\n",
      "0                    0.65         0.74      brushhair\n",
      "1                    0.34         0.29          catch\n",
      "2                    0.61         0.76           clap\n",
      "3                    0.51         0.57    climbstairs\n",
      "4                    0.99         0.97           golf\n",
      "5                    0.37         0.33           jump\n",
      "6                    0.57         0.57       kickball\n",
      "7                    0.61         0.56           pick\n",
      "8                    0.58         0.76           pour\n",
      "9                    1.00         0.99         pullup\n",
      "10                   0.78         0.79           push\n",
      "11                   0.34         0.20            run\n",
      "12                   0.21         0.07      shootball\n",
      "13                   0.79         0.87       shootbow\n",
      "14                   0.63         0.51       shootgun\n",
      "15                   0.66         0.71            sit\n",
      "16                   0.51         0.61          stand\n",
      "17                   0.27         0.36  swingbaseball\n",
      "18                   0.46         0.39          throw\n",
      "19                   0.69         0.62           walk\n",
      "20                   0.61         0.51           wave\n"
     ]
    }
   ],
   "source": [
    "from sklearn.metrics import confusion_matrix\n",
    "\n",
    "with open('JHMDB_class_names.txt') as f:\n",
    "    target_names = [line.rstrip() for line in f]\n",
    "    \n",
    "\n",
    "class_acc1=get_confusion_matrix(fileName1)\n",
    "class_acc2=get_confusion_matrix(fileName2)\n",
    "   \n",
    "acc_to_csv(class_acc1,class_acc2,0,50, target_names)\n",
    "\n"
   ]
  },
  {
   "cell_type": "code",
   "execution_count": null,
   "metadata": {},
   "outputs": [],
   "source": []
  }
 ],
 "metadata": {
  "kernelspec": {
   "display_name": "Python 3",
   "language": "python",
   "name": "python3"
  },
  "language_info": {
   "codemirror_mode": {
    "name": "ipython",
    "version": 3
   },
   "file_extension": ".py",
   "mimetype": "text/x-python",
   "name": "python",
   "nbconvert_exporter": "python",
   "pygments_lexer": "ipython3",
   "version": "3.5.2"
  }
 },
 "nbformat": 4,
 "nbformat_minor": 5
}
