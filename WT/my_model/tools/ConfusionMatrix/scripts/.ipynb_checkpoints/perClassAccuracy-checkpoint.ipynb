{
 "cells": [
  {
   "cell_type": "markdown",
   "metadata": {},
   "source": [
    "Check Performance"
   ]
  },
  {
   "cell_type": "code",
   "execution_count": 1,
   "metadata": {},
   "outputs": [],
   "source": [
    "from datetime import datetime\n",
    "from sklearn.metrics import confusion_matrix\n",
    "import itertools\n",
    "import io\n",
    "import pandas as pd\n",
    "import numpy as np\n",
    "import matplotlib.pyplot as plt"
   ]
  },
  {
   "cell_type": "code",
   "execution_count": 2,
   "metadata": {},
   "outputs": [],
   "source": [
    "fileName1=\"../Full16FlowRGB_All_UCF101Batch30-CM.txt\"\n",
    "fileName2=\"../Full16FlowRGB_Key60_Batch30-CM.txt\"\n",
    "fileName3=\"../Full16FlowRGB_MyKey25_Batch30-CM.txt\"\n",
    "d={'f1':'All-Frames','f2':'HGR-50%', 'f3':'Our-approach-25'}\n",
    "f1=\"All-Frames\"\n",
    "f2=\"HGR-50%\"\n",
    "f2=\"Our-approach-25\""
   ]
  },
  {
   "cell_type": "code",
   "execution_count": 3,
   "metadata": {},
   "outputs": [
    {
     "name": "stdout",
     "output_type": "stream",
     "text": [
      "../Full16FlowRGB_All_UCF101Batch30-CM.txt\n",
      "../Full16FlowRGB_Key60_Batch30-CM.txt\n",
      "../Full16FlowRGB_MyKey25_Batch30-CM.txt\n"
     ]
    }
   ],
   "source": [
    "print(fileName1)\n",
    "print(fileName2)\n",
    "print(fileName3)"
   ]
  },
  {
   "cell_type": "code",
   "execution_count": 4,
   "metadata": {},
   "outputs": [],
   "source": [
    "def get_Accuracy(cm, class_names):\n",
    "\n",
    "    class_acc=[]\n",
    "    cm = np.around(cm.astype('float') / cm.sum(axis=1)[:, np.newaxis], decimals=2)\n",
    "    for i, j in itertools.product(range(cm.shape[0]), range(cm.shape[1])):\n",
    "        if i==j:\n",
    "            class_acc.append(cm[i, j])\n",
    "    #print(cm)\n",
    "    return class_acc\n",
    "    \n",
    "\n",
    "def get_confusion_matrix(fileName):\n",
    "    with open(fileName) as file:\n",
    "        cm = [[float(digit) for digit in line.split()] for line in file]\n",
    "    \n",
    "    cm = np.array(cm, dtype=np.float32)\n",
    "    class_acc=get_Accuracy(cm, class_names=target_names)\n",
    "    return class_acc"
   ]
  },
  {
   "cell_type": "code",
   "execution_count": 5,
   "metadata": {},
   "outputs": [],
   "source": [
    "def acc_to_csv(class_acc1, class_acc2, class_acc3, init_range, end_rang, target_names):\n",
    "    df=pd.DataFrame({'Classes':target_names[init_range:end_rang], d['f1']:class_acc1[init_range:end_rang],d['f2']:class_acc2[init_range:end_rang],d['f3']:class_acc3[init_range:end_rang]})\n",
    "    #df.to_excel(\"output.xlsx\")\n",
    "    print(df)\n",
    "    df.to_csv('../csv_files/perClassAccuracy.csv',columns = ['Classes', d['f1'], d['f2'], d['f3']],index=False)\n"
   ]
  },
  {
   "cell_type": "code",
   "execution_count": 6,
   "metadata": {
    "scrolled": true
   },
   "outputs": [
    {
     "name": "stdout",
     "output_type": "stream",
     "text": [
      "     All-Frames             Classes  HGR-50%  Our-approach-25\n",
      "0          0.90      ApplyEyeMakeup     0.90             0.88\n",
      "1          0.89       ApplyLipstick     0.91             0.90\n",
      "2          0.47             Archery     0.51             0.57\n",
      "3          0.67        BabyCrawling     0.70             0.61\n",
      "4          0.78         BalanceBeam     0.75             0.78\n",
      "5          0.83        BandMarching     0.83             0.82\n",
      "6          0.45       BaseballPitch     0.42             0.37\n",
      "7          0.68          Basketball     0.71             0.67\n",
      "8          0.98      BasketballDunk     0.97             0.95\n",
      "9          0.92          BenchPress     0.94             0.92\n",
      "10         0.64              Biking     0.66             0.62\n",
      "11         0.94           Billiards     0.94             0.95\n",
      "12         0.57         BlowDryHair     0.51             0.43\n",
      "13         0.76      BlowingCandles     0.72             0.74\n",
      "14         0.71    BodyWeightSquats     0.75             0.70\n",
      "15         0.83             Bowling     0.82             0.84\n",
      "16         0.73   BoxingPunchingBag     0.82             0.78\n",
      "17         0.80      BoxingSpeedBag     0.71             0.82\n",
      "18         0.76        BreastStroke     0.69             0.55\n",
      "19         0.12       BrushingTeeth     0.11             0.09\n",
      "20         0.91        CleanAndJerk     0.90             0.92\n",
      "21         0.73         CliffDiving     0.73             0.69\n",
      "22         0.50      CricketBowling     0.50             0.58\n",
      "23         0.28         CricketShot     0.24             0.23\n",
      "24         0.56    CuttingInKitchen     0.54             0.58\n",
      "25         0.92              Diving     0.89             0.92\n",
      "26         0.81            Drumming     0.78             0.79\n",
      "27         0.77             Fencing     0.83             0.81\n",
      "28         0.31  FieldHockeyPenalty     0.25             0.35\n",
      "29         0.63     FloorGymnastics     0.61             0.52\n",
      "..          ...                 ...      ...              ...\n",
      "71         0.75             PushUps     0.71             0.72\n",
      "72         0.70             Rafting     0.65             0.62\n",
      "73         0.46  RockClimbingIndoor     0.50             0.49\n",
      "74         0.69        RopeClimbing     0.74             0.73\n",
      "75         0.81              Rowing     0.87             0.85\n",
      "76         0.85           SalsaSpin     0.79             0.79\n",
      "77         0.36        ShavingBeard     0.46             0.48\n",
      "78         0.45             Shotput     0.46             0.46\n",
      "79         0.75       SkateBoarding     0.68             0.71\n",
      "80         0.32              Skiing     0.32             0.27\n",
      "81         0.73              Skijet     0.65             0.71\n",
      "82         0.75           SkyDiving     0.77             0.77\n",
      "83         0.74      SoccerJuggling     0.76             0.75\n",
      "84         0.84       SoccerPenalty     0.90             0.68\n",
      "85         0.78          StillRings     0.76             0.80\n",
      "86         0.81       SumoWrestling     0.87             0.83\n",
      "87         0.90             Surfing     0.91             0.84\n",
      "88         0.68               Swing     0.66             0.66\n",
      "89         0.45     TableTennisShot     0.51             0.44\n",
      "90         0.49              TaiChi     0.50             0.34\n",
      "91         0.36         TennisSwing     0.27             0.28\n",
      "92         0.85         ThrowDiscus     0.79             0.80\n",
      "93         0.73   TrampolineJumping     0.75             0.80\n",
      "94         0.40              Typing     0.49             0.41\n",
      "95         0.79          UnevenBars     0.76             0.79\n",
      "96         0.91   VolleyballSpiking     0.87             0.89\n",
      "97         0.58      WalkingWithDog     0.39             0.57\n",
      "98         0.63         WallPushups     0.62             0.44\n",
      "99         0.97      WritingOnBoard     0.98             0.96\n",
      "100        0.41                YoYo     0.40             0.38\n",
      "\n",
      "[101 rows x 4 columns]\n"
     ]
    }
   ],
   "source": [
    "from sklearn.metrics import confusion_matrix\n",
    "\n",
    "with open('class_names.txt') as f:\n",
    "    target_names = [line.rstrip() for line in f]\n",
    "    \n",
    "\n",
    "class_acc1=get_confusion_matrix(fileName1)\n",
    "class_acc2=get_confusion_matrix(fileName2)\n",
    "class_acc3=get_confusion_matrix(fileName3)    \n",
    "acc_to_csv(class_acc1,class_acc2,class_acc3,0,101, target_names)\n",
    "\n"
   ]
  },
  {
   "cell_type": "code",
   "execution_count": null,
   "metadata": {},
   "outputs": [],
   "source": []
  }
 ],
 "metadata": {
  "kernelspec": {
   "display_name": "Python 3",
   "language": "python",
   "name": "python3"
  },
  "language_info": {
   "codemirror_mode": {
    "name": "ipython",
    "version": 3
   },
   "file_extension": ".py",
   "mimetype": "text/x-python",
   "name": "python",
   "nbconvert_exporter": "python",
   "pygments_lexer": "ipython3",
   "version": "3.5.2"
  }
 },
 "nbformat": 4,
 "nbformat_minor": 5
}
