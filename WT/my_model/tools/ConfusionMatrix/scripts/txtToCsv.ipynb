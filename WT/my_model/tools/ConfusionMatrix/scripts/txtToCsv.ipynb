{
 "cells": [
  {
   "cell_type": "code",
   "execution_count": 1,
   "metadata": {},
   "outputs": [
    {
     "name": "stdout",
     "output_type": "stream",
     "text": [
      "Conversion from {txt_file} to {csv_file} complete.\n"
     ]
    }
   ],
   "source": [
    "import csv\n",
    "\n",
    "# Define the input and output file paths\n",
    "txt_file = '../UCF50/UCF50_Full16FlowRGB_Batch30-CM.txt'\n",
    "csv_file ='../UCF50/UCF50_Full16FlowRGB_Batch30-CM.csv'\n",
    "\n",
    "# Open the input TXT file and create the output CSV file\n",
    "with open(txt_file, 'r') as input_file, open(csv_file, 'w', newline='') as output_file:\n",
    "    # Create a CSV writer\n",
    "    csv_writer = csv.writer(output_file)\n",
    "\n",
    "    # Loop through each line in the TXT file\n",
    "    for line in input_file:\n",
    "        # Split the line into fields (assuming it's space-separated)\n",
    "        fields = line.strip().split()  # You can change the delimiter based on your TXT file\n",
    "\n",
    "        # Write the fields to the CSV file\n",
    "        csv_writer.writerow(fields)\n",
    "\n",
    "print(\"Conversion from {txt_file} to {csv_file} complete.\")\n"
   ]
  },
  {
   "cell_type": "code",
   "execution_count": null,
   "metadata": {},
   "outputs": [],
   "source": []
  }
 ],
 "metadata": {
  "kernelspec": {
   "display_name": "Python 3",
   "language": "python",
   "name": "python3"
  },
  "language_info": {
   "codemirror_mode": {
    "name": "ipython",
    "version": 3
   },
   "file_extension": ".py",
   "mimetype": "text/x-python",
   "name": "python",
   "nbconvert_exporter": "python",
   "pygments_lexer": "ipython3",
   "version": "3.5.2"
  }
 },
 "nbformat": 4,
 "nbformat_minor": 2
}
