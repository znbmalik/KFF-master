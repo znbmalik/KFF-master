{
 "cells": [
  {
   "cell_type": "code",
   "execution_count": 1,
   "metadata": {},
   "outputs": [],
   "source": [
    "import flow_vis\n",
    "import os\n",
    "import numpy as np\n",
    "import filecmp\n",
    "import matplotlib.pyplot as plt\n",
    "import PIL\n",
    "from PIL import ImageFilter\n",
    "from PIL import Image"
   ]
  },
  {
   "cell_type": "code",
   "execution_count": 2,
   "metadata": {},
   "outputs": [],
   "source": [
    "interval=1\n",
    "depth=2\n",
    "#LK_Flow_StackedFrames, Brox_Flow_StackedFrames,PLK_Flow_StackedFrames,Tvl1_Flow_StackedFrames,Farneback_Flow_StackedFrames\n",
    "algo='Brox_Flow_StackedFrames'\n",
    "list_Npy=['_UP_Training_Npy','_UP_Validation_Npy','_UP_Testing_Npy']\n",
    "list_3D_Npy=['_2D_UP_Training_Npy','_2D_UP_Validation_Npy','_2D_UP_Testing_Npy']\n",
    "\n",
    "#list_UP_ROI_Npy=['_UP_ROI_Train_Npy','_UP_ROI_Val_Npy','_UP_ROI_Test_Npy']\n",
    "#list_out_UP_ROI_Npy=['_out_UP_ROI_Train_Npy','_out_UP_ROI_Val_Npy','_out_UP_ROI_Test_Npy']\n",
    "\n",
    "for _Npy,_3D_Npy in zip(list_Npy,list_3D_Npy):\n",
    "    inputPath='/home/my_model/my_data/'+algo+'/depth_'+str(depth)+'/'+str(interval)+_Npy\n",
    "    outputPath='/home/my_model/my_data/'+algo+'/depth_'+str(depth)+'/'+str(interval)+_3D_Npy\n",
    "    #print(_UP_ROI_Npy)\n",
    "    \n",
    "    if not os.path.exists(outputPath):\n",
    "        os.makedirs(outputPath)\n",
    "    else:\n",
    "        for f in os.listdir(outputPath):\n",
    "            if f is not \".ipynb_checkpoints\":\n",
    "                os.remove(os.path.join(outputPath,f))\n",
    "    \n",
    "    \n",
    "    for file in os.listdir(inputPath):\n",
    "        npy_data1=np.load(os.path.join(inputPath,file))\n",
    "        framelist=[]\n",
    "        i=0\n",
    "\n",
    "        while i<44:\n",
    "            a = np.array(npy_data1[i])\n",
    "\n",
    "            b = np.array(npy_data1[i+1])\n",
    "\n",
    "            flow_uv=np.stack((a, b)) \n",
    "\n",
    "            out_path=os.path.join(outputPath,file)\n",
    "\n",
    "            framelist.append(flow_uv)\n",
    "\n",
    "            i+=2\n",
    "        \n",
    "        frames=np.array(framelist)\n",
    "        frames=frames.transpose(3,2,0,1)\n",
    "        \n",
    "        \n",
    "        np.save(out_path,frames)"
   ]
  },
  {
   "cell_type": "code",
   "execution_count": null,
   "metadata": {},
   "outputs": [],
   "source": []
  }
 ],
 "metadata": {
  "kernelspec": {
   "display_name": "Python 3",
   "language": "python",
   "name": "python3"
  },
  "language_info": {
   "codemirror_mode": {
    "name": "ipython",
    "version": 3
   },
   "file_extension": ".py",
   "mimetype": "text/x-python",
   "name": "python",
   "nbconvert_exporter": "python",
   "pygments_lexer": "ipython3",
   "version": "3.5.2"
  }
 },
 "nbformat": 4,
 "nbformat_minor": 2
}
