{
 "cells": [
  {
   "cell_type": "code",
   "execution_count": 1,
   "metadata": {
    "scrolled": true
   },
   "outputs": [],
   "source": [
    "# import the necessary packages\n",
    "from sklearn.cluster import KMeans\n",
    "import matplotlib.pyplot as plt\n",
    "import argparse\n",
    "import pre_utils\n",
    "import cv2\n",
    "import os\n",
    "import shutil\n",
    "from PIL import Image\n",
    "import numpy as np\n",
    "\n",
    "folder='../../my_data/UCF-Brox/flow/jpg/'\n",
    "outputfolder='../../my_data/UCF-Brox/flow/key_jpg/'"
   ]
  },
  {
   "cell_type": "code",
   "execution_count": 2,
   "metadata": {},
   "outputs": [],
   "source": [
    "def histImage(image):\n",
    "    # reshape the image to be a list of pixels\n",
    "    image = image.reshape((image.shape[0] * image.shape[1], 3))\n",
    "\n",
    "    # cluster the pixel intensities\n",
    "    clt = KMeans(n_clusters = 7)\n",
    "    clt.fit(image)\n",
    "    \n",
    "    # build a histogram of clusters and then create a figure\n",
    "    # representing the number of pixels labeled to each color\n",
    "    \n",
    "    hist = pre_utils.centroid_histogram(clt)\n",
    "    #print(\"hist\", hist)\n",
    "    #print(\"clt.cluster_centers_\",clt.cluster_centers_)\n",
    "    bar = pre_utils.plot_colors(hist, clt.cluster_centers_)\n",
    "    \n",
    "    return bar \n",
    "    "
   ]
  },
  {
   "cell_type": "code",
   "execution_count": 3,
   "metadata": {},
   "outputs": [],
   "source": [
    "def compareHSV(bar0, bar1, a_margin=0, nc_margin=0, m_margin=0):\n",
    "    newColor=[]\n",
    "    for b in bar1:\n",
    "        \n",
    "        flag=False\n",
    "        for bb in bar0:\n",
    "            if (abs(b[1]-bb[1])<=a_margin) and (abs((b[2]*b[3])-(bb[2]*bb[3]))<=m_margin):\n",
    "                flag=True       \n",
    "                \n",
    "        if flag==False:#new color not in range of any exiting color\n",
    "            if b[0] > nc_margin  or (b[2]*b[3]) > m_margin:\n",
    "                newColor.append(b)\n",
    "            \n",
    "    \n",
    "    for b in bar0:\n",
    "        flag1=False\n",
    "        for bb in bar1:\n",
    "            if (abs(b[1]-bb[1])<=a_margin) and (abs((b[2]*b[3])-(bb[2]*bb[3]))<=m_margin):\n",
    "                flag1=True       \n",
    "                \n",
    "        if flag1==False:#new color not in range of any exiting color\n",
    "            if b[0] > nc_margin or (b[2]*b[3]) > m_margin:\n",
    "                newColor.append(b)\n",
    "    return newColor"
   ]
  },
  {
   "cell_type": "code",
   "execution_count": 4,
   "metadata": {},
   "outputs": [],
   "source": [
    "def excludeBK(bar):\n",
    "    foregroundBar=[]\n",
    "    \n",
    "    for b in bar:\n",
    "        foregroundBar.append((b[0],b[1],b[2],b[3]))\n",
    "    #return foregroundBar\n",
    "    sorted_list = sorted(foregroundBar,key=lambda t: (t[2]*t[3]))\n",
    "    #print(sorted_list)\n",
    "    if sorted_list[0][0]>0.5:\n",
    "        sorted_list.pop(0)\n",
    "    \n",
    "    return sorted_list"
   ]
  },
  {
   "cell_type": "code",
   "execution_count": 6,
   "metadata": {},
   "outputs": [
    {
     "data": {
      "image/png": "[encoded data removed]",
      "text/plain": [
       "<Figure size 432x288 with 1 Axes>"
      ]
     },
     "metadata": {
      "needs_background": "light"
     },
     "output_type": "display_data"
    },
    {
     "data": {
      "image/png": "[encoded data removed]",
      "text/plain": [
       "<Figure size 432x288 with 1 Axes>"
      ]
     },
     "metadata": {
      "needs_background": "light"
     },
     "output_type": "display_data"
    },
    {
     "name": "stdout",
     "output_type": "stream",
     "text": [
      "6\n"
     ]
    },
    {
     "data": {
      "text/plain": [
       "'diff=compareHSV(bar, bar1,15,0.2,0.2)\\n#print(diff)\\nhis=[]\\ncls=[]\\nfor i in diff:\\n    #print(i)\\n    his.append(i[0])\\n    clr_list=[]\\n    clr_list.append(i[1])\\n    clr_list.append(i[2])\\n    clr_list.append(i[3])\\n    cls.append(np.array(clr_list))\\n#print(np.array(his))\\n#print(np.array(cls))\\nbz=pre_utils.plot_diffs(his, cls)\\n#print(bz)\\nplt.figure()\\nplt.axis(\"off\")\\nplt.imshow(bz)\\nplt.show()'"
      ]
     },
     "execution_count": 6,
     "metadata": {},
     "output_type": "execute_result"
    }
   ],
   "source": [
    "image = cv2.imread(\"v_WallPushups_g01_c01_26.jpg\") \n",
    "image = cv2.cvtColor(image, cv2.COLOR_BGR2RGB) \n",
    "#down Sample\n",
    "#image= cv2.pyrDown(image)\n",
    "             \n",
    "bar=histImage(image)\n",
    "#print(bar.shape)\n",
    "'''plt.figure()\n",
    "plt.axis(\"off\")\n",
    "plt.imshow(bar)\n",
    "plt.show()'''\n",
    "\n",
    "image1 = cv2.imread(\"v_WallPushups_g01_c01_37.jpg\") \n",
    "image1 = cv2.cvtColor(image1, cv2.COLOR_BGR2RGB) \n",
    "#down Sample\n",
    "#image= cv2.pyrDown(image)\n",
    "             \n",
    "bar1=histImage(image1)\n",
    "#print(bar1.shape)\n",
    "'''plt.figure()\n",
    "plt.axis(\"off\")\n",
    "plt.imshow(bar1)\n",
    "plt.show()'''\n",
    "\n",
    "bar=excludeBK(bar) \n",
    "bar1=excludeBK(bar1)\n",
    "\n",
    "if len(compareHSV(bar, bar1,15,0.2,0.2)) > 1:\n",
    "        print(len(compareHSV(bar, bar1,15,0.2,0.2)))\n",
    "\n",
    "'''diff=compareHSV(bar, bar1,15,0.2,0.2)\n",
    "#print(diff)\n",
    "his=[]\n",
    "cls=[]\n",
    "for i in diff:\n",
    "    #print(i)\n",
    "    his.append(i[0])\n",
    "    clr_list=[]\n",
    "    clr_list.append(i[1])\n",
    "    clr_list.append(i[2])\n",
    "    clr_list.append(i[3])\n",
    "    cls.append(np.array(clr_list))\n",
    "#print(np.array(his))\n",
    "#print(np.array(cls))\n",
    "bz=pre_utils.plot_diffs(his, cls)\n",
    "#print(bz)\n",
    "plt.figure()\n",
    "plt.axis(\"off\")\n",
    "plt.imshow(bz)\n",
    "plt.show()'''"
   ]
  },
  {
   "cell_type": "code",
   "execution_count": null,
   "metadata": {},
   "outputs": [],
   "source": []
  },
  {
   "cell_type": "code",
   "execution_count": 3,
   "metadata": {},
   "outputs": [
    {
     "data": {
      "image/png": "[encoded data removed]",
      "text/plain": [
       "<Figure size 432x288 with 1 Axes>"
      ]
     },
     "metadata": {
      "needs_background": "light"
     },
     "output_type": "display_data"
    }
   ],
   "source": [
    "image = cv2.imread(\"v_WallPushups_g01_c01_26.jpg\") \n",
    "image = cv2.cvtColor(image, cv2.COLOR_BGR2RGB) \n",
    "#down Sample\n",
    "#image= cv2.pyrDown(image)\n",
    "             \n",
    "bar=histImage(image)\n",
    "#print(bar)\n",
    "plt.figure()\n",
    "plt.axis(\"off\")\n",
    "plt.imshow(bar)\n",
    "plt.show()"
   ]
  },
  {
   "cell_type": "code",
   "execution_count": null,
   "metadata": {},
   "outputs": [],
   "source": []
  }
 ],
 "metadata": {
  "kernelspec": {
   "display_name": "Python 3",
   "language": "python",
   "name": "python3"
  },
  "language_info": {
   "codemirror_mode": {
    "name": "ipython",
    "version": 3
   },
   "file_extension": ".py",
   "mimetype": "text/x-python",
   "name": "python",
   "nbconvert_exporter": "python",
   "pygments_lexer": "ipython3",
   "version": "3.5.2"
  }
 },
 "nbformat": 4,
 "nbformat_minor": 2
}
