{
 "cells": [
  {
   "cell_type": "code",
   "execution_count": 1,
   "metadata": {
    "scrolled": true
   },
   "outputs": [],
   "source": [
    "# import the necessary packages\n",
    "from sklearn.cluster import KMeans\n",
    "import matplotlib.pyplot as plt\n",
    "import argparse\n",
    "import pre_utils\n",
    "import cv2\n",
    "import os\n",
    "import shutil\n",
    "from PIL import Image\n",
    "import numpy as np\n",
    "\n",
    "folder='../../my_data/UCF-Brox/flow/jpg/'\n",
    "outputfolder='../../my_data/UCF-Brox/flow/key_jpg/'"
   ]
  },
  {
   "cell_type": "code",
   "execution_count": 2,
   "metadata": {},
   "outputs": [],
   "source": [
    "def histImage(image):\n",
    "    # reshape the image to be a list of pixels\n",
    "    image = image.reshape((image.shape[0] * image.shape[1], 3))\n",
    "\n",
    "    # cluster the pixel intensities\n",
    "    clt = KMeans(n_clusters = 7)\n",
    "    clt.fit(image)\n",
    "    \n",
    "    # build a histogram of clusters and then create a figure\n",
    "    # representing the number of pixels labeled to each color\n",
    "    \n",
    "    hist = pre_utils.centroid_histogram(clt)\n",
    "    #print(\"hist\", hist)\n",
    "    #print(\"clt.cluster_centers_\",clt.cluster_centers_)\n",
    "    bar = pre_utils.plot_colors(hist, clt.cluster_centers_)\n",
    "    \n",
    "    return bar \n",
    "    "
   ]
  },
  {
   "cell_type": "code",
   "execution_count": 3,
   "metadata": {},
   "outputs": [],
   "source": [
    "def compareHSV(bar0, bar1, a_margin=0, nc_margin=0, m_margin=0):\n",
    "    newColor=[]\n",
    "    for b in bar1:\n",
    "        \n",
    "        flag=False\n",
    "        for bb in bar0:\n",
    "            if (abs(b[1]-bb[1])<=a_margin) and (abs((b[2]*b[3])-(bb[2]*bb[3]))<=m_margin):\n",
    "                flag=True       \n",
    "                \n",
    "        if flag==False:#new color not in range of any exiting color\n",
    "            if b[0] > nc_margin  or (b[2]*b[3]) > m_margin:\n",
    "                newColor.append(b)\n",
    "            \n",
    "    \n",
    "    for b in bar0:\n",
    "        flag1=False\n",
    "        for bb in bar1:\n",
    "            if (abs(b[1]-bb[1])<=a_margin) and (abs((b[2]*b[3])-(bb[2]*bb[3]))<=m_margin):\n",
    "                flag1=True       \n",
    "                \n",
    "        if flag1==False:#new color not in range of any exiting color\n",
    "            if b[0] > nc_margin or (b[2]*b[3]) > m_margin:\n",
    "                newColor.append(b)\n",
    "    return newColor"
   ]
  },
  {
   "cell_type": "code",
   "execution_count": 4,
   "metadata": {},
   "outputs": [],
   "source": [
    "def excludeBK(bar):\n",
    "    foregroundBar=[]\n",
    "    \n",
    "    for b in bar:\n",
    "        foregroundBar.append((b[0],b[1],b[2],b[3]))\n",
    "    #return foregroundBar\n",
    "    sorted_list = sorted(foregroundBar,key=lambda t: (t[2]*t[3]))\n",
    "    #print(sorted_list)\n",
    "    if sorted_list[0][0]>0.5:\n",
    "        sorted_list.pop(0)\n",
    "    \n",
    "    return sorted_list"
   ]
  },
  {
   "cell_type": "code",
   "execution_count": 6,
   "metadata": {},
   "outputs": [
    {
     "name": "stdout",
     "output_type": "stream",
     "text": [
      "6\n",
      "[(0.040651041666666665, 11, 0.2285084079713712, 0.9976133411336944), (0.023697916666666666, 13, 0.43259423311502376, 0.9968071230691286), (0.038984375, 356, 0.21434456441610972, 0.9971148365794693), (0.0396484375, 275, 0.3191021913119113, 0.9947699539585979), (0.07234375, 344, 0.5512002075483571, 0.9957481048574931), (0.025052083333333332, 289, 0.5861353458319617, 0.9744384656149383)]\n"
     ]
    },
    {
     "ename": "AttributeError",
     "evalue": "'list' object has no attribute 'astype'",
     "output_type": "error",
     "traceback": [
      "\u001b[0;31m---------------------------------------------------------------------------\u001b[0m",
      "\u001b[0;31mAttributeError\u001b[0m                            Traceback (most recent call last)",
      "\u001b[0;32m<ipython-input-6-81e129faf331>\u001b[0m in \u001b[0;36m<module>\u001b[0;34m()\u001b[0m\n\u001b[1;32m     45\u001b[0m \u001b[0;31m#print(np.array(his))\u001b[0m\u001b[0;34m\u001b[0m\u001b[0;34m\u001b[0m\u001b[0m\n\u001b[1;32m     46\u001b[0m \u001b[0;31m#print(np.array(cls))\u001b[0m\u001b[0;34m\u001b[0m\u001b[0;34m\u001b[0m\u001b[0m\n\u001b[0;32m---> 47\u001b[0;31m \u001b[0mbz\u001b[0m\u001b[0;34m=\u001b[0m\u001b[0mpre_utils\u001b[0m\u001b[0;34m.\u001b[0m\u001b[0mplot_diffs\u001b[0m\u001b[0;34m(\u001b[0m\u001b[0mhis\u001b[0m\u001b[0;34m,\u001b[0m \u001b[0mcls\u001b[0m\u001b[0;34m)\u001b[0m\u001b[0;34m\u001b[0m\u001b[0m\n\u001b[0m\u001b[1;32m     48\u001b[0m \u001b[0;31m#print(bz)\u001b[0m\u001b[0;34m\u001b[0m\u001b[0;34m\u001b[0m\u001b[0m\n\u001b[1;32m     49\u001b[0m \u001b[0mplt\u001b[0m\u001b[0;34m.\u001b[0m\u001b[0mfigure\u001b[0m\u001b[0;34m(\u001b[0m\u001b[0;34m)\u001b[0m\u001b[0;34m\u001b[0m\u001b[0m\n",
      "\u001b[0;32m/home/WT/my_model/my_Scripts/keyframe/diagram/pre_utils.py\u001b[0m in \u001b[0;36mplot_diffs\u001b[0;34m(hist, centroids)\u001b[0m\n\u001b[1;32m     62\u001b[0m         \u001b[0mcolor\u001b[0m \u001b[0;34m=\u001b[0m \u001b[0mlist\u001b[0m\u001b[0;34m(\u001b[0m\u001b[0mcolorsys\u001b[0m\u001b[0;34m.\u001b[0m\u001b[0mhsv_to_rgb\u001b[0m\u001b[0;34m(\u001b[0m\u001b[0mcolor\u001b[0m\u001b[0;34m[\u001b[0m\u001b[0;36m0\u001b[0m\u001b[0;34m]\u001b[0m\u001b[0;34m,\u001b[0m \u001b[0mcolor\u001b[0m\u001b[0;34m[\u001b[0m\u001b[0;36m1\u001b[0m\u001b[0;34m]\u001b[0m\u001b[0;34m,\u001b[0m \u001b[0mcolor\u001b[0m\u001b[0;34m[\u001b[0m\u001b[0;36m2\u001b[0m\u001b[0;34m]\u001b[0m\u001b[0;34m)\u001b[0m\u001b[0;34m)\u001b[0m\u001b[0;34m\u001b[0m\u001b[0m\n\u001b[1;32m     63\u001b[0m         \u001b[0;31m#print(color)\u001b[0m\u001b[0;34m\u001b[0m\u001b[0;34m\u001b[0m\u001b[0m\n\u001b[0;32m---> 64\u001b[0;31m         \u001b[0mcv2\u001b[0m\u001b[0;34m.\u001b[0m\u001b[0mrectangle\u001b[0m\u001b[0;34m(\u001b[0m\u001b[0mbar\u001b[0m\u001b[0;34m,\u001b[0m \u001b[0;34m(\u001b[0m\u001b[0mint\u001b[0m\u001b[0;34m(\u001b[0m\u001b[0mstartX\u001b[0m\u001b[0;34m)\u001b[0m\u001b[0;34m,\u001b[0m \u001b[0;36m0\u001b[0m\u001b[0;34m)\u001b[0m\u001b[0;34m,\u001b[0m \u001b[0;34m(\u001b[0m\u001b[0mint\u001b[0m\u001b[0;34m(\u001b[0m\u001b[0mendX\u001b[0m\u001b[0;34m)\u001b[0m\u001b[0;34m,\u001b[0m \u001b[0;36m50\u001b[0m\u001b[0;34m)\u001b[0m\u001b[0;34m,\u001b[0m \u001b[0mcolor\u001b[0m\u001b[0;34m.\u001b[0m\u001b[0mastype\u001b[0m\u001b[0;34m(\u001b[0m\u001b[0;34m\"uint8\"\u001b[0m\u001b[0;34m)\u001b[0m\u001b[0;34m.\u001b[0m\u001b[0mtolist\u001b[0m\u001b[0;34m(\u001b[0m\u001b[0;34m)\u001b[0m\u001b[0;34m,\u001b[0m \u001b[0;34m-\u001b[0m\u001b[0;36m1\u001b[0m\u001b[0;34m)\u001b[0m\u001b[0;34m\u001b[0m\u001b[0m\n\u001b[0m\u001b[1;32m     65\u001b[0m         \u001b[0mstartX\u001b[0m \u001b[0;34m=\u001b[0m \u001b[0mendX\u001b[0m\u001b[0;34m\u001b[0m\u001b[0m\n\u001b[1;32m     66\u001b[0m \u001b[0;34m\u001b[0m\u001b[0m\n",
      "\u001b[0;31mAttributeError\u001b[0m: 'list' object has no attribute 'astype'"
     ]
    }
   ],
   "source": [
    "image = cv2.imread(\"v_WallPushups_g01_c01_26.jpg\") \n",
    "image = cv2.cvtColor(image, cv2.COLOR_BGR2RGB) \n",
    "#down Sample\n",
    "#image= cv2.pyrDown(image)\n",
    "             \n",
    "bar=histImage(image)\n",
    "#print(bar.shape)\n",
    "'''plt.figure()\n",
    "plt.axis(\"off\")\n",
    "plt.imshow(bar)\n",
    "plt.show()'''\n",
    "\n",
    "image1 = cv2.imread(\"v_WallPushups_g01_c01_37.jpg\") \n",
    "image1 = cv2.cvtColor(image1, cv2.COLOR_BGR2RGB) \n",
    "#down Sample\n",
    "#image= cv2.pyrDown(image)\n",
    "             \n",
    "bar1=histImage(image1)\n",
    "#print(bar1.shape)\n",
    "'''plt.figure()\n",
    "plt.axis(\"off\")\n",
    "plt.imshow(bar1)\n",
    "plt.show()'''\n",
    "\n",
    "bar=excludeBK(bar) \n",
    "bar1=excludeBK(bar1)\n",
    "\n",
    "if len(compareHSV(bar, bar1,15,0.2,0.2)) > 1:\n",
    "        print(len(compareHSV(bar, bar1,15,0.2,0.2)))\n",
    "\n",
    "diff=compareHSV(bar, bar1,15,0.2,0.2)\n",
    "print(diff)\n",
    "\n",
    "\n",
    "his=[]\n",
    "cls=[]\n",
    "for i in diff:\n",
    "    #print(i)\n",
    "    his.append(i[0])\n",
    "    clr_list=[]\n",
    "    clr_list.append(i[1])\n",
    "    clr_list.append(i[2])\n",
    "    clr_list.append(i[3])\n",
    "    cls.append(np.array(clr_list))\n",
    "#print(np.array(his))\n",
    "#print(np.array(cls))\n",
    "bz=pre_utils.plot_diffs(his, cls)\n",
    "#print(bz)\n",
    "plt.figure()\n",
    "plt.axis(\"off\")\n",
    "plt.imshow(bz)\n",
    "plt.show()"
   ]
  },
  {
   "cell_type": "code",
   "execution_count": null,
   "metadata": {},
   "outputs": [],
   "source": []
  },
  {
   "cell_type": "code",
   "execution_count": 4,
   "metadata": {},
   "outputs": [
    {
     "name": "stdout",
     "output_type": "stream",
     "text": [
      "(0.7114192708333333, 329, 0.009084691536406812, 0.9969750442044042)\n",
      "(0.07235677083333333, 344, 0.5511160405807806, 0.9957516927951667)\n",
      "(0.025065104166666668, 289, 0.5861231914359757, 0.9743417366946799)\n",
      "(0.03494791666666667, 1, 0.6751313394936769, 0.9931430992665319)\n",
      "(0.039635416666666666, 275, 0.31920601205988547, 0.9947647961222651)\n",
      "(0.039153645833333334, 356, 0.21385017421602384, 0.9971087071343332)\n",
      "(0.077421875, 323, 0.08380356747843125, 0.983563432097788)\n"
     ]
    },
    {
     "data": {
      "image/png": "[encoded data removed]",
      "text/plain": [
       "<Figure size 432x288 with 1 Axes>"
      ]
     },
     "metadata": {
      "needs_background": "light"
     },
     "output_type": "display_data"
    }
   ],
   "source": [
    "image = cv2.imread(\"v_WallPushups_g01_c01_26.jpg\") \n",
    "image = cv2.cvtColor(image, cv2.COLOR_BGR2RGB) \n",
    "#down Sample\n",
    "#image= cv2.pyrDown(image)\n",
    "             \n",
    "bar=histImage(image)\n",
    "#print(bar)\n",
    "plt.figure()\n",
    "plt.axis(\"off\")\n",
    "plt.imshow(bar)\n",
    "plt.show()"
   ]
  },
  {
   "cell_type": "code",
   "execution_count": 5,
   "metadata": {},
   "outputs": [
    {
     "name": "stdout",
     "output_type": "stream",
     "text": [
      "(0.0565625, 7, 0.09929471238126675, 0.9980740278587802)\n",
      "(0.051106770833333336, 3, 0.7206737974790802, 0.9946217060072434)\n",
      "(0.730234375, 3, 0.02024262946032742, 0.9982169921590993)\n",
      "(0.044205729166666666, 0, 0.5328039758601947, 0.9969230591470533)\n",
      "(0.05354166666666667, 5, 0.8693382308607953, 0.9964913786526285)\n",
      "(0.040651041666666665, 11, 0.2285084079713712, 0.9976133411336944)\n",
      "(0.023697916666666666, 13, 0.43259423311502376, 0.9968071230691286)\n"
     ]
    },
    {
     "data": {
      "image/png": "[encoded data removed]",
      "text/plain": [
       "<Figure size 432x288 with 1 Axes>"
      ]
     },
     "metadata": {
      "needs_background": "light"
     },
     "output_type": "display_data"
    }
   ],
   "source": [
    "image = cv2.imread(\"v_WallPushups_g01_c01_37.jpg\") \n",
    "image = cv2.cvtColor(image, cv2.COLOR_BGR2RGB) \n",
    "#down Sample\n",
    "#image= cv2.pyrDown(image)\n",
    "             \n",
    "bar=histImage(image)\n",
    "#print(bar)\n",
    "plt.figure()\n",
    "plt.axis(\"off\")\n",
    "plt.imshow(bar)\n",
    "plt.show()"
   ]
  },
  {
   "cell_type": "code",
   "execution_count": null,
   "metadata": {},
   "outputs": [],
   "source": []
  }
 ],
 "metadata": {
  "kernelspec": {
   "display_name": "Python 3",
   "language": "python",
   "name": "python3"
  },
  "language_info": {
   "codemirror_mode": {
    "name": "ipython",
    "version": 3
   },
   "file_extension": ".py",
   "mimetype": "text/x-python",
   "name": "python",
   "nbconvert_exporter": "python",
   "pygments_lexer": "ipython3",
   "version": "3.5.2"
  }
 },
 "nbformat": 4,
 "nbformat_minor": 2
}
