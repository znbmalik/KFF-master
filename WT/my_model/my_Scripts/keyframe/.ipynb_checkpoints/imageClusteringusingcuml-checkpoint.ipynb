{
 "cells": [
  {
   "cell_type": "code",
   "execution_count": null,
   "id": "aa5a6261-0930-4c00-9a53-4c33fbc3c3bb",
   "metadata": {},
   "outputs": [],
   "source": [
    "import os\n",
    "import shutil\n",
    "from PIL import Image\n",
    "from cuml.cluster import KMeans as KMeans"
   ]
  },
  {
   "cell_type": "code",
   "execution_count": null,
   "id": "f97f5d48-8382-4b87-9d7c-8118a5492701",
   "metadata": {},
   "outputs": [],
   "source": [
    "def histImage(image):\n",
    "    # reshape the image to be a list of pixels\n",
    "    image = image.reshape((image.shape[0] * image.shape[1], 3))\n",
    "\n",
    "    # cluster the pixel intensities\n",
    "    clt = KMeansKMeans(n_clusters=3, max_iter=300, init='scalable-k-means++')\n",
    "    clt.fit(image)\n",
    "    \n",
    "    # build a histogram of clusters and then create a figure\n",
    "    # representing the number of pixels labeled to each color\n",
    "    hist = utils.centroid_histogram(clt)\n",
    "    #print(\"hist\", hist)\n",
    "    #print(\"clt.cluster_centers_\",clt.cluster_centers_)\n",
    "    bar = utils.plot_colors(hist, clt.cluster_centers_)\n",
    "    \n",
    "    return bar "
   ]
  },
  {
   "cell_type": "code",
   "execution_count": null,
   "id": "5bd62e7b-645c-400e-b178-c34b3bf857a4",
   "metadata": {},
   "outputs": [],
   "source": [
    "#image1=cv2.imread(flows_path[0])\n",
    "#image1 = cv2.cvtColor(image1, cv2.COLOR_BGR2RGB)\n",
    "im = Image.open(r\"v_WallPushups_g01_c01-Copy1.avi_00008.jpg\") \n",
    "im.show()"
   ]
  }
 ],
 "metadata": {
  "kernelspec": {
   "display_name": "Python 3 (ipykernel)",
   "language": "python",
   "name": "python3"
  },
  "language_info": {
   "codemirror_mode": {
    "name": "ipython",
    "version": 3
   },
   "file_extension": ".py",
   "mimetype": "text/x-python",
   "name": "python",
   "nbconvert_exporter": "python",
   "pygments_lexer": "ipython3",
   "version": "3.9.15"
  }
 },
 "nbformat": 4,
 "nbformat_minor": 5
}
