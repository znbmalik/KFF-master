{
 "cells": [
  {
   "cell_type": "code",
   "execution_count": null,
   "metadata": {},
   "outputs": [],
   "source": [
    "\n",
    "\n",
    "\n",
    "import os\n",
    "#folder='../../my_data/UCF-Brox/25_Full-KeyFlow-All-UCF101/rgb/jpg/'\n",
    "folder='../../../../ltc-master/datasets/JHMDB/Full-Flow-myKey25-JHMDB/rgb/jpg/'\n",
    "\n",
    "# In[ ]:\n",
    "\n",
    "\n",
    "for action in os.listdir(folder):\n",
    "    \n",
    "    actiobclass=os.path.join(folder,action)\n",
    "    print(actiobclass)\n",
    "    for vid in os.listdir(actiobclass):\n",
    "        # get the start time\n",
    "        print(vid)\n",
    "        if vid.endswith('.avi'):\n",
    "            vidName=os.path.join(actiobclass,vid)\n",
    "            print(vidName)\n",
    "            outputPath=os.path.join(folder,action, vid)\n",
    "            #print(outputPath)\n",
    "            #createDirectories(outputPath)\n",
    "            flows_path=[]\n",
    "            keyframes=[]\n",
    "            for opticalFow in os.listdir(vidName):\n",
    "                if opticalFow.endswith(\".jpg\"):\n",
    "                    opticalFlow=os.path.join(vidName,opticalFow)\n",
    "                    flows_path.append(opticalFlow)\n",
    "            if len(flows_path) > 0:\n",
    "                flows_path.sort(key = lambda x: int(x.split('.')[-2].split('_')[-1]))\n",
    "                #for x in flows_path:\n",
    "                print(len(flows_path))\n",
    "                #print(flows_path)\n",
    "            \n",
    "            counter=0\n",
    "            for op in flows_path:\n",
    "                #print(op)\n",
    "                flowName=\".\".join(op.split('.')[0:2])\n",
    "                flowName=flowName+\".avi_{0:0=5d}.jpg\".format(counter)\n",
    "                #print(flowName)\n",
    "                os.rename(op, flowName)\n",
    "                counter+=1\n",
    "                \n",
    "            \n",
    "\n",
    "\n",
    "# In[ ]:\n",
    "\n",
    "\n",
    "\n",
    "\n"
   ]
  }
 ],
 "metadata": {
  "kernelspec": {
   "display_name": "Python 3 (ipykernel)",
   "language": "python",
   "name": "python3"
  },
  "language_info": {
   "codemirror_mode": {
    "name": "ipython",
    "version": 3
   },
   "file_extension": ".py",
   "mimetype": "text/x-python",
   "name": "python",
   "nbconvert_exporter": "python",
   "pygments_lexer": "ipython3",
   "version": "3.9.15"
  }
 },
 "nbformat": 4,
 "nbformat_minor": 2
}
