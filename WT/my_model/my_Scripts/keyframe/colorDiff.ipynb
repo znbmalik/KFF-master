{
 "cells": [
  {
   "cell_type": "code",
   "execution_count": 4,
   "metadata": {},
   "outputs": [],
   "source": [
    "from PIL import Image\n",
    "import numpy as np\n",
    "\n",
    "def jpg_image_to_array(image_path):\n",
    "    \"\"\"\n",
    "    Loads JPEG image into 3D Numpy array of shape (width, height, channels)\n",
    "    in double precision \n",
    "    \"\"\"\n",
    "    with Image.open(image_path) as image:\n",
    "        im_arr = np.fromstring(image.tobytes(), dtype=np.uint8)\n",
    "        im_arr = im_arr.reshape((image.size[1], image.size[0], 3)) /255\n",
    "    return im_arr"
   ]
  },
  {
   "cell_type": "code",
   "execution_count": 5,
   "metadata": {},
   "outputs": [
    {
     "name": "stdout",
     "output_type": "stream",
     "text": [
      "[1848.97254902 3835.99607843 3447.86666667]\n"
     ]
    },
    {
     "name": "stderr",
     "output_type": "stream",
     "text": [
      "/usr/local/lib/python3.5/dist-packages/ipykernel_launcher.py:10: DeprecationWarning: The binary mode of fromstring is deprecated, as it behaves surprisingly on unicode inputs. Use frombuffer instead\n",
      "  # Remove the CWD from sys.path while we load stuff.\n"
     ]
    }
   ],
   "source": [
    "img1 = jpg_image_to_array(\"v_WallPushups_g01_c01/v_WallPushups_g01_c01_1.jpg\")\n",
    "img2 = jpg_image_to_array(\"v_WallPushups_g01_c01/v_WallPushups_g01_c01_2.jpg\")\n",
    "diff = np.absolute(img1 - img2) \n",
    "print(np.sum(diff,axis=(0,1)))"
   ]
  },
  {
   "cell_type": "code",
   "execution_count": 6,
   "metadata": {},
   "outputs": [
    {
     "name": "stdout",
     "output_type": "stream",
     "text": [
      "[1778.03921569 8273.26274509 9505.08627451]\n"
     ]
    },
    {
     "name": "stderr",
     "output_type": "stream",
     "text": [
      "/usr/local/lib/python3.5/dist-packages/ipykernel_launcher.py:10: DeprecationWarning: The binary mode of fromstring is deprecated, as it behaves surprisingly on unicode inputs. Use frombuffer instead\n",
      "  # Remove the CWD from sys.path while we load stuff.\n"
     ]
    }
   ],
   "source": [
    "img1 = jpg_image_to_array(\"v_WallPushups_g01_c01/v_WallPushups_g01_c01_1.jpg\")\n",
    "img2 = jpg_image_to_array(\"v_WallPushups_g01_c01/v_WallPushups_g01_c01_34.jpg\")\n",
    "diff = np.absolute(img1 - img2) \n",
    "print(np.sum(diff,axis=(0,1)))"
   ]
  },
  {
   "cell_type": "code",
   "execution_count": null,
   "metadata": {},
   "outputs": [],
   "source": []
  }
 ],
 "metadata": {
  "kernelspec": {
   "display_name": "Python 3 (ipykernel)",
   "language": "python",
   "name": "python3"
  },
  "language_info": {
   "codemirror_mode": {
    "name": "ipython",
    "version": 3
   },
   "file_extension": ".py",
   "mimetype": "text/x-python",
   "name": "python",
   "nbconvert_exporter": "python",
   "pygments_lexer": "ipython3",
   "version": "3.9.15"
  }
 },
 "nbformat": 4,
 "nbformat_minor": 4
}
