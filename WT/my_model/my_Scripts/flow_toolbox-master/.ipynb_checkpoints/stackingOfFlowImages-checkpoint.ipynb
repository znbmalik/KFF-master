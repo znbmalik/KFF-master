{
 "cells": [
  {
   "cell_type": "code",
   "execution_count": 1,
   "metadata": {},
   "outputs": [],
   "source": [
    "import os\n",
    "import numpy as np\n",
    "from PIL import Image\n",
    "\n",
    "\n",
    "\n"
   ]
  },
  {
   "cell_type": "code",
   "execution_count": 8,
   "metadata": {},
   "outputs": [],
   "source": [
    "def stackflows(input_path,input_path_flow,processed_vid,depth,interval):\n",
    "    \n",
    "    x=0\n",
    "    for file in os.listdir(input_path):\n",
    "        print(file)\n",
    "        flowList=[]\n",
    "        flows=[]\n",
    "        for f in os.listdir(os.path.join(input_path_flow)):\n",
    "\n",
    "            if f.startswith(file):\n",
    "                if f.endswith(\".jpg\"):\n",
    "                    #print(f)\n",
    "                    flowList.append(f)\n",
    "        #print(len(flowList))\n",
    "        flowList.sort(key = lambda x: x.split('.')[-2])\n",
    "        #print(flowList)\n",
    "\n",
    "        flows=[]\n",
    "        count=0\n",
    "        while count<32:\n",
    "\n",
    "            a = Image.open(os.path.join(input_path_flow,flowList[count]))\n",
    "            b = Image.open(os.path.join(input_path_flow,flowList[count+1]))\n",
    "            #print(a.shape)\n",
    "            \n",
    "            a=np.array(a).astype('float64')\n",
    "            \n",
    "            min_val=np.min(a)#added\n",
    "            max_val=np.max(a)#added\n",
    "            a=255*(a-min_val)/(max_val-min_val)\n",
    "            #a-=np.mean(a).astype('float64')\n",
    "            \n",
    "            b=np.array(b).astype('float64')\n",
    "            min_val=np.min(b)#added\n",
    "            max_val=np.max(b)#added\n",
    "            b=255*(b-min_val)/(max_val-min_val)\n",
    "            #b-=np.mean(b).astype('float64')\n",
    "            \n",
    "            m_flow=np.dstack((a,b))\n",
    "            #m_flow-=np.mean(m_flow).astype('float64')\n",
    "            #print(m_flow)\n",
    "            flows.append(m_flow)\n",
    "            \n",
    "\n",
    "            count+=2\n",
    "            \n",
    "        stacked=np.concatenate(flows, axis=2)\n",
    "        stacked= np.transpose(stacked, (2, 0, 1))\n",
    "        \n",
    "        #################################\n",
    "        '''u=0\n",
    "        us=[]\n",
    "        while u<32:\n",
    "            us.append(stacked[u])\n",
    "            u+=2\n",
    "        us=np.array(us)\n",
    "        print(us.shape)\n",
    "        print(np.mean(us))\n",
    "        print(us-np.mean(us))\n",
    "        #################################\n",
    "        v=1\n",
    "        vs=[]\n",
    "        while v<=32:\n",
    "            vs.append(stacked[v])\n",
    "            v+=2\n",
    "        vs=np.array(vs)\n",
    "        print(np.mean(vs))\n",
    "        print(vs.shape)'''\n",
    "        #################################\n",
    "        print(stacked.shape)\n",
    "        min_val=np.min(stacked)#added\n",
    "        max_val=np.max(stacked)#added\n",
    "\n",
    "        if min_val!=max_val:\n",
    "            vid_name=file.split('.')[0]\n",
    "            #np.save(processed_vid+vid_name+\".npy\", stacked)\n",
    "            np.save(vid_name+\".npy\", stacked)\n",
    "        x+=1\n",
    "        if x==3:\n",
    "            break\n",
    "        \n"
   ]
  },
  {
   "cell_type": "code",
   "execution_count": 9,
   "metadata": {},
   "outputs": [],
   "source": [
    "#******************************************folders for OF***********************************\n",
    "def createDirectories(processed_vid):           \n",
    "    if not os.path.exists(processed_vid):\n",
    "        os.makedirs(processed_vid)\n",
    "    else:\n",
    "        files = os.listdir(processed_vid)\n",
    "        for f in files:\n",
    "            os.remove(os.path.join(processed_vid,f))\n",
    "                   \n",
    "    #******************************************folders for OF***********************************"
   ]
  },
  {
   "cell_type": "code",
   "execution_count": 10,
   "metadata": {},
   "outputs": [
    {
     "name": "stdout",
     "output_type": "stream",
     "text": [
      "0_clip_2_v_BlowingCandles_g03_c04.avi\n",
      "(32, 225, 209)\n",
      "0_clip_1_v_WallPushups_g01_c02.avi\n",
      "(32, 206, 169)\n",
      "0_clip_2_v_BabyCrawling_g20_c06.avi\n",
      "(32, 82, 76)\n"
     ]
    }
   ],
   "source": [
    "interval=1#1, 4 or 8\n",
    "depth=2 #5,3,2,'RGB'\n",
    "processed_vid='/home/my_model/my_data/Brox_Flow_StackedFrames/depth_'+str(depth)+'/'+str(interval)+'/'\n",
    "input_path = '/home/my_model/my_data/depth_'+str(depth)+'/'+str(interval)\n",
    "input_path_flow ='/home/my_model/my_data/FlowImages'\n",
    "#createDirectories(processed_vid)\n",
    "stackflows(input_path,input_path_flow,processed_vid,depth,interval)"
   ]
  },
  {
   "cell_type": "code",
   "execution_count": null,
   "metadata": {},
   "outputs": [],
   "source": []
  }
 ],
 "metadata": {
  "kernelspec": {
   "display_name": "Python 3",
   "language": "python",
   "name": "python3"
  },
  "language_info": {
   "codemirror_mode": {
    "name": "ipython",
    "version": 3
   },
   "file_extension": ".py",
   "mimetype": "text/x-python",
   "name": "python",
   "nbconvert_exporter": "python",
   "pygments_lexer": "ipython3",
   "version": "3.6.12"
  }
 },
 "nbformat": 4,
 "nbformat_minor": 2
}
