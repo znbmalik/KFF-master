{
 "cells": [
  {
   "cell_type": "code",
   "execution_count": null,
   "metadata": {},
   "outputs": [],
   "source": [
    "import os\n",
    "import numpy as np\n",
    "import shutil\n",
    "input_path='../Test_Input/'\n",
    "output_path='../my_data/Training_Videos/'\n",
    "subFolders=['BabyCrawling','HandstandWalking','PullUps','Swing','TaiChi']"
   ]
  },
  {
   "cell_type": "code",
   "execution_count": null,
   "metadata": {},
   "outputs": [],
   "source": [
    "def split_train_videos(): \n",
    "    #----------------Training---------------\n",
    "    \n",
    "    if not os.path.exists(output_path):\n",
    "        os.makedirs(output_path)\n",
    "    else:\n",
    "        for f in os.listdir(output_path):\n",
    "            if f is not \".ipynb_checkpoints\":\n",
    "                shutil.rmtree(os.path.join(output_path,f))\n",
    "    \n",
    "    for fold in subFolders:\n",
    "        folderPath=os.path.join(output_path,fold)\n",
    "        if not os.path.exists(folderPath):\n",
    "            os.makedirs(folderPath)\n",
    "        else:\n",
    "            for f in os.listdir(folderPath):\n",
    "                if f is not \".ipynb_checkpoints\":\n",
    "                    os.remove(os.path.join(folderPath,f))\n",
    "    \n",
    "    frames=os.listdir(input_path)\n",
    "\n",
    "    f = open(\"s_train.txt\",\"r\")\n",
    "    lines = f.readlines()\n",
    "    f.close()\n",
    "\n",
    "    #print(lines)\n",
    "    for line in lines:\n",
    "        vid_name=line.split(' ')[0]\n",
    "        folder=line.split('_')[1]\n",
    "        for f in os.listdir(input_path):\n",
    "            if f==folder:\n",
    "                print(f)\n",
    "                for videos in os.listdir(os.path.join(input_path,folder)):\n",
    "                    if videos==vid_name:\n",
    "                        source=os.path.join(input_path,folder)\n",
    "                        if not os.path.exists(os.path.join(output_path,folder)):\n",
    "                            os.makedirs(os.path.join(output_path,folder))\n",
    "                        shutil.move(os.path.join(source,videos), os.path.join(output_path,folder))\n",
    "    "
   ]
  },
  {
   "cell_type": "code",
   "execution_count": null,
   "metadata": {},
   "outputs": [],
   "source": [
    "split_train_videos()"
   ]
  },
  {
   "cell_type": "code",
   "execution_count": null,
   "metadata": {},
   "outputs": [],
   "source": [
    "output_path='../my_test_data/Testing_Videos/'"
   ]
  },
  {
   "cell_type": "code",
   "execution_count": null,
   "metadata": {},
   "outputs": [],
   "source": [
    "def split_test_videos(): \n",
    "    #----------------Training---------------\n",
    "    \n",
    "    if not os.path.exists(output_path):\n",
    "        os.makedirs(output_path)\n",
    "    else:\n",
    "        for f in os.listdir(output_path):\n",
    "            if f is not \".ipynb_checkpoints\":\n",
    "                shutil.rmtree(os.path.join(output_path,f))\n",
    "    \n",
    "    for folder in subFolders:\n",
    "        folderPath=os.path.join(output_path,folder)\n",
    "        if not os.path.exists(folderPath):\n",
    "            os.makedirs(folderPath)\n",
    "        else:\n",
    "            for f in os.listdir(folderPath):\n",
    "                if f is not \".ipynb_checkpoints\":\n",
    "                    os.remove(os.path.join(folderPath,f))\n",
    "                    \n",
    "    frames=os.listdir(input_path)\n",
    "\n",
    "    f = open(\"s_val.txt\",\"r\")\n",
    "    lines = f.readlines()\n",
    "    f.close()\n",
    "\n",
    "    #print(lines)\n",
    "    for line in lines:\n",
    "        vid_name=line.split(' ')[0]\n",
    "        folder=line.split('_')[1]\n",
    "        for f in os.listdir(input_path):\n",
    "            if f==folder:\n",
    "                print(f)\n",
    "                for videos in os.listdir(os.path.join(input_path,folder)):\n",
    "                    if videos==vid_name:\n",
    "                        source=os.path.join(input_path,folder)\n",
    "                        if not os.path.exists(os.path.join(output_path,folder)):\n",
    "                            os.makedirs(os.path.join(output_path,folder))\n",
    "                        shutil.move(os.path.join(source,videos), os.path.join(output_path,folder))\n",
    "    "
   ]
  },
  {
   "cell_type": "code",
   "execution_count": null,
   "metadata": {},
   "outputs": [],
   "source": [
    "split_test_videos()"
   ]
  },
  {
   "cell_type": "code",
   "execution_count": null,
   "metadata": {},
   "outputs": [],
   "source": [
    "import my_motion_demo\n",
    "\n",
    "my_motion_demo.main()"
   ]
  }
 ],
 "metadata": {
  "kernelspec": {
   "display_name": "Python 2",
   "language": "python",
   "name": "python2"
  },
  "language_info": {
   "codemirror_mode": {
    "name": "ipython",
    "version": 2
   },
   "file_extension": ".py",
   "mimetype": "text/x-python",
   "name": "python",
   "nbconvert_exporter": "python",
   "pygments_lexer": "ipython2",
   "version": "2.7.12"
  }
 },
 "nbformat": 4,
 "nbformat_minor": 2
}
